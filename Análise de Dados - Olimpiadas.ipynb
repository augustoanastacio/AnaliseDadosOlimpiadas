{
 "cells": [
  {
   "cell_type": "markdown",
   "id": "19c23a19",
   "metadata": {},
   "source": [
    "# Análise de Dados: Olimpíadas"
   ]
  },
  {
   "cell_type": "markdown",
   "id": "264b30b0",
   "metadata": {},
   "source": [
    "## Um estudo sobre o Jogos Olímpicos em suas 35 edições"
   ]
  },
  {
   "cell_type": "markdown",
   "id": "9089c760",
   "metadata": {},
   "source": [
    "### Para este estudo serão usados os microdados disponíveis em\n",
    "https://basedosdados.org/dataset/mundo-kaggle-olimpiadas"
   ]
  },
  {
   "cell_type": "markdown",
   "id": "1a07bbe0",
   "metadata": {},
   "source": [
    "Neste repositório farei a mesma análise usando comandos SQL,quando aplicáveis; python e Excel, já que o número de linhas é limitado, além de Power BI para visualização.\n",
    "\n",
    "Os comandos SQL serão espelhados neste próprio caderno abaixo do código python ficando a cargo do leitor reproduzi-los no Google cloud.\n",
    "\n",
    "Os dados dessa base estão em uma única tabela com 269718 linhas, apresentados desta forma:"
   ]
  },
  {
   "cell_type": "code",
   "execution_count": 5,
   "id": "0e691263",
   "metadata": {
    "scrolled": true
   },
   "outputs": [
    {
     "data": {
      "text/html": [
       "<div>\n",
       "<style scoped>\n",
       "    .dataframe tbody tr th:only-of-type {\n",
       "        vertical-align: middle;\n",
       "    }\n",
       "\n",
       "    .dataframe tbody tr th {\n",
       "        vertical-align: top;\n",
       "    }\n",
       "\n",
       "    .dataframe thead th {\n",
       "        text-align: right;\n",
       "    }\n",
       "</style>\n",
       "<table border=\"1\" class=\"dataframe\">\n",
       "  <thead>\n",
       "    <tr style=\"text-align: right;\">\n",
       "      <th></th>\n",
       "      <th>ano</th>\n",
       "      <th>edicao</th>\n",
       "      <th>cidade_sede</th>\n",
       "      <th>pais</th>\n",
       "      <th>delegacao</th>\n",
       "      <th>equipe</th>\n",
       "      <th>id_atleta</th>\n",
       "      <th>nome_atleta</th>\n",
       "      <th>sexo</th>\n",
       "      <th>idade</th>\n",
       "      <th>altura</th>\n",
       "      <th>peso</th>\n",
       "      <th>esporte</th>\n",
       "      <th>evento</th>\n",
       "      <th>medalha</th>\n",
       "    </tr>\n",
       "  </thead>\n",
       "  <tbody>\n",
       "    <tr>\n",
       "      <th>0</th>\n",
       "      <td>1896</td>\n",
       "      <td>Summer</td>\n",
       "      <td>Athina</td>\n",
       "      <td>Australia</td>\n",
       "      <td>AUS</td>\n",
       "      <td>Australia</td>\n",
       "      <td>35698</td>\n",
       "      <td>Edwin Harold \"Teddy\" Flack</td>\n",
       "      <td>M</td>\n",
       "      <td>22.0</td>\n",
       "      <td>NaN</td>\n",
       "      <td>NaN</td>\n",
       "      <td>Athletics</td>\n",
       "      <td>Athletics Men's 1,500 metres</td>\n",
       "      <td>Gold</td>\n",
       "    </tr>\n",
       "    <tr>\n",
       "      <th>1</th>\n",
       "      <td>1896</td>\n",
       "      <td>Summer</td>\n",
       "      <td>Athina</td>\n",
       "      <td>Australia</td>\n",
       "      <td>AUS</td>\n",
       "      <td>Australia</td>\n",
       "      <td>35698</td>\n",
       "      <td>Edwin Harold \"Teddy\" Flack</td>\n",
       "      <td>M</td>\n",
       "      <td>22.0</td>\n",
       "      <td>NaN</td>\n",
       "      <td>NaN</td>\n",
       "      <td>Athletics</td>\n",
       "      <td>Athletics Men's 800 metres</td>\n",
       "      <td>Gold</td>\n",
       "    </tr>\n",
       "    <tr>\n",
       "      <th>2</th>\n",
       "      <td>1896</td>\n",
       "      <td>Summer</td>\n",
       "      <td>Athina</td>\n",
       "      <td>Australia</td>\n",
       "      <td>AUS</td>\n",
       "      <td>Australia</td>\n",
       "      <td>35698</td>\n",
       "      <td>Edwin Harold \"Teddy\" Flack</td>\n",
       "      <td>M</td>\n",
       "      <td>22.0</td>\n",
       "      <td>NaN</td>\n",
       "      <td>NaN</td>\n",
       "      <td>Athletics</td>\n",
       "      <td>Athletics Men's Marathon</td>\n",
       "      <td>NaN</td>\n",
       "    </tr>\n",
       "    <tr>\n",
       "      <th>3</th>\n",
       "      <td>1896</td>\n",
       "      <td>Summer</td>\n",
       "      <td>Athina</td>\n",
       "      <td>Australia</td>\n",
       "      <td>AUS</td>\n",
       "      <td>Australia/Great Britain</td>\n",
       "      <td>35698</td>\n",
       "      <td>Edwin Harold \"Teddy\" Flack</td>\n",
       "      <td>M</td>\n",
       "      <td>22.0</td>\n",
       "      <td>NaN</td>\n",
       "      <td>NaN</td>\n",
       "      <td>Tennis</td>\n",
       "      <td>Tennis Men's Doubles</td>\n",
       "      <td>Bronze</td>\n",
       "    </tr>\n",
       "    <tr>\n",
       "      <th>4</th>\n",
       "      <td>1896</td>\n",
       "      <td>Summer</td>\n",
       "      <td>Athina</td>\n",
       "      <td>Australia</td>\n",
       "      <td>AUS</td>\n",
       "      <td>Australia</td>\n",
       "      <td>35698</td>\n",
       "      <td>Edwin Harold \"Teddy\" Flack</td>\n",
       "      <td>M</td>\n",
       "      <td>22.0</td>\n",
       "      <td>NaN</td>\n",
       "      <td>NaN</td>\n",
       "      <td>Tennis</td>\n",
       "      <td>Tennis Men's Singles</td>\n",
       "      <td>NaN</td>\n",
       "    </tr>\n",
       "  </tbody>\n",
       "</table>\n",
       "</div>"
      ],
      "text/plain": [
       "    ano  edicao cidade_sede       pais delegacao                   equipe  \\\n",
       "0  1896  Summer      Athina  Australia       AUS                Australia   \n",
       "1  1896  Summer      Athina  Australia       AUS                Australia   \n",
       "2  1896  Summer      Athina  Australia       AUS                Australia   \n",
       "3  1896  Summer      Athina  Australia       AUS  Australia/Great Britain   \n",
       "4  1896  Summer      Athina  Australia       AUS                Australia   \n",
       "\n",
       "   id_atleta                 nome_atleta sexo  idade  altura  peso    esporte  \\\n",
       "0      35698  Edwin Harold \"Teddy\" Flack    M   22.0     NaN   NaN  Athletics   \n",
       "1      35698  Edwin Harold \"Teddy\" Flack    M   22.0     NaN   NaN  Athletics   \n",
       "2      35698  Edwin Harold \"Teddy\" Flack    M   22.0     NaN   NaN  Athletics   \n",
       "3      35698  Edwin Harold \"Teddy\" Flack    M   22.0     NaN   NaN     Tennis   \n",
       "4      35698  Edwin Harold \"Teddy\" Flack    M   22.0     NaN   NaN     Tennis   \n",
       "\n",
       "                         evento medalha  \n",
       "0  Athletics Men's 1,500 metres    Gold  \n",
       "1    Athletics Men's 800 metres    Gold  \n",
       "2      Athletics Men's Marathon     NaN  \n",
       "3          Tennis Men's Doubles  Bronze  \n",
       "4          Tennis Men's Singles     NaN  "
      ]
     },
     "execution_count": 5,
     "metadata": {},
     "output_type": "execute_result"
    }
   ],
   "source": [
    "import pandas as pd                    #importando a biblioteca com o nome de pd\n",
    "df = pd.read_csv(\"olimpiadas.csv\")     #importando o arquivo csv como um Dataframe, formato da própria bilbioteca\n",
    "                                       # usei csv porque é como os dados estão mas poderia ter usado separado por tabulação, o que precisaria de um delimitador\n",
    "                                       # seria df = pd.read_csv(\"pokemon_data.txt\", delimiter = \"\\t\") sendo \"\\t\" o delimitador\n",
    "df.head()  "
   ]
  },
  {
   "cell_type": "markdown",
   "id": "72aceb66",
   "metadata": {},
   "source": [
    "## Para este estudo faremos as seguintes perguntas à nossa base de dados:"
   ]
  },
  {
   "cell_type": "markdown",
   "id": "966307d3",
   "metadata": {},
   "source": [
    "### 10 Perguntas Básicas (Resultam e apenas um número ou dois):"
   ]
  },
  {
   "cell_type": "markdown",
   "id": "1b87ff04",
   "metadata": {},
   "source": [
    "1 -Quantas edições aconteceram?\n",
    "\n",
    "2 -Quantos atletas participaram em todas as edições?\n",
    "\n",
    "3 -Qual o número de homens e mulheres de todas as edições?\n",
    "\n",
    "4 -Quantas medalhas foram adquiridas?\n",
    "\n",
    "5 -Quantas medalhas de cada tipo foram distribuídas?\n",
    "\n",
    "6 -Quantos esportes já fizeram parte?\n",
    "\n",
    "7 -Quantos esportes por ano já fizeram parte?\n",
    "\n",
    "8 -Quantos Países já sediaram os jogos?\n",
    "\n",
    "9 -Qual a média de peso dos atletas masculinos e femininos?\n",
    "\n",
    "10-Qual a média de Idade dos atletas masculinos e femininos?"
   ]
  },
  {
   "cell_type": "markdown",
   "id": "320afca5",
   "metadata": {},
   "source": [
    "###### 1 -Quantas edições aconteceram?"
   ]
  },
  {
   "cell_type": "code",
   "execution_count": 23,
   "id": "34f0da09",
   "metadata": {},
   "outputs": [
    {
     "name": "stdout",
     "output_type": "stream",
     "text": [
      " 1 -Quantas edições aconteceram? \n",
      " 35 edições.\n",
      "\n",
      " COMANDO SQL: SELECT DISTINCT COUNT(distinct ano) AS Edicoes FROM `basedosdados.mundo_kaggle_olimpiadas.microdados`\n"
     ]
    }
   ],
   "source": [
    "edicoes = len(df['ano'].unique())\n",
    "print(\" 1 -Quantas edições aconteceram? \\n\", edicoes, \"edições.\\n\")\n",
    "\n",
    "print(r\" COMANDO SQL: SELECT DISTINCT COUNT(distinct ano) AS qtd_edicoes FROM `basedosdados.mundo_kaggle_olimpiadas.microdados`\")"
   ]
  },
  {
   "cell_type": "markdown",
   "id": "b06bd3d8",
   "metadata": {},
   "source": [
    "###### 2 -Quantos atletas participaram em todas as edições?"
   ]
  },
  {
   "cell_type": "code",
   "execution_count": 24,
   "id": "ae166fb6",
   "metadata": {},
   "outputs": [
    {
     "name": "stdout",
     "output_type": "stream",
     "text": [
      " 2 -Quantos atletas participaram em todas as edições? \n",
      " 135571 atletas.\n",
      "\n",
      " COMANDO SQL: SELECT DISTINCT COUNT(distinct id_atleta) AS qtd_atletas FROM `basedosdados.mundo_kaggle_olimpiadas.microdados`\n"
     ]
    }
   ],
   "source": [
    "atletas = len(df['id_atleta'].unique())\n",
    "print(\" 2 -Quantos atletas participaram em todas as edições? \\n\", atletas, \"atletas.\\n\")\n",
    "\n",
    "print(r\" COMANDO SQL: SELECT DISTINCT COUNT(distinct id_atleta) AS qtd_atletas FROM `basedosdados.mundo_kaggle_olimpiadas.microdados`\")"
   ]
  },
  {
   "cell_type": "markdown",
   "id": "8c19a956",
   "metadata": {},
   "source": [
    "###### 3 -Qual o número de homens e mulheres de todas as edições?"
   ]
  },
  {
   "cell_type": "code",
   "execution_count": 53,
   "id": "f5e78955",
   "metadata": {},
   "outputs": [
    {
     "name": "stdout",
     "output_type": "stream",
     "text": [
      " 2 -Quantos atletas participaram em todas as edições? \n",
      " 195340 Homens;\n",
      " 74378 Mulheres.\n",
      "Comando SQL: SELECT sexo, COUNT(sexo) AS qtd_atletas FROM `basedosdados.mundo_kaggle_olimpiadas.microdados` GROUP BY sexo\n"
     ]
    }
   ],
   "source": [
    "atletas = df['sexo'].value_counts()\n",
    "homens = atletas[0]\n",
    "mulheres = atletas[1]\n",
    "print(\" 2 -Quantos atletas participaram em todas as edições? \\n\", homens, \"Homens;\\n\", mulheres,\"Mulheres.\")\n",
    "\n",
    "print(r\"Comando SQL: SELECT sexo, COUNT(sexo) AS qtd_atletas FROM `basedosdados.mundo_kaggle_olimpiadas.microdados` GROUP BY sexo\")"
   ]
  },
  {
   "cell_type": "markdown",
   "id": "26fac6de",
   "metadata": {},
   "source": [
    "###### 4 -Quantas medalhas foram adquiridas?"
   ]
  },
  {
   "cell_type": "code",
   "execution_count": 55,
   "id": "5bcbb983",
   "metadata": {},
   "outputs": [
    {
     "name": "stdout",
     "output_type": "stream",
     "text": [
      " 4 -Quantas medalhas foram adquiridas? \n",
      " 39772 medalhas.\n",
      "\n",
      "Comando SQL: SELECT COUNT(medalha) AS qtd_medalhas FROM `basedosdados.mundo_kaggle_olimpiadas.microdados`\n"
     ]
    }
   ],
   "source": [
    "medalhas = df['medalha'].value_counts()\n",
    "# é possível simplificar o código para esta questão, \n",
    "# mas como a questão seguinte pedirá os valores distintos, optei por manter desta forma mais didática\n",
    "# total = medalhas[0]+medalhas[1]+medalhas[2] desta forma reduzindo o código em uma linha e duas variáveis.\n",
    "ouro = medalhas[0]\n",
    "bronze = medalhas[1]\n",
    "prata = medalhas[2]\n",
    "total = ouro+bronze+prata\n",
    "print(\" 4 -Quantas medalhas foram adquiridas? \\n\", total, \"medalhas.\\n\")\n",
    "print(r\"Comando SQL: SELECT COUNT(medalha) AS qtd_medalhas FROM `basedosdados.mundo_kaggle_olimpiadas.microdados`\")"
   ]
  },
  {
   "cell_type": "markdown",
   "id": "f126942d",
   "metadata": {},
   "source": [
    "###### 5 -Quantas medalhas de cada tipo foram distribuídas?"
   ]
  },
  {
   "cell_type": "code",
   "execution_count": 57,
   "id": "b69f3e5e",
   "metadata": {},
   "outputs": [
    {
     "name": "stdout",
     "output_type": "stream",
     "text": [
      "5 -Quantas medalhas de cada tipo foram distribuídas? \n",
      " 13369  ouro;\n",
      " 13108  prata;\n",
      " 13295 bronze.\n",
      "\n",
      "Comando SQL: SELECT MEDALHA, COUNT(medalha) AS qtd_medalhas FROM `basedosdados.mundo_kaggle_olimpiadas.microdados` GROUP BY medalha ORDER BY qtd_medalhas DESC\n"
     ]
    }
   ],
   "source": [
    "print(\"5 -Quantas medalhas de cada tipo foram distribuídas? \\n\", ouro, \" ouro;\\n\", prata, \" prata;\\n\", bronze, \"bronze.\\n\")\n",
    "\n",
    "print(r\"Comando SQL: SELECT MEDALHA, COUNT(medalha) AS qtd_medalhas FROM `basedosdados.mundo_kaggle_olimpiadas.microdados` GROUP BY medalha ORDER BY qtd_medalhas DESC\")"
   ]
  },
  {
   "cell_type": "markdown",
   "id": "8cf55e79",
   "metadata": {},
   "source": [
    "###### 6 -Quantos esportes já fizeram parte?\n"
   ]
  },
  {
   "cell_type": "code",
   "execution_count": 59,
   "id": "f6bb0b0e",
   "metadata": {},
   "outputs": [
    {
     "name": "stdout",
     "output_type": "stream",
     "text": [
      " 6 -Quantos esportes já fizeram parte? \n",
      " 66 esportes.\n",
      "\n",
      " COMANDO SQL: SELECT DISTINCT COUNT(distinct esporte) AS qtd_esportes FROM `basedosdados.mundo_kaggle_olimpiadas.microdados`\n"
     ]
    }
   ],
   "source": [
    "esportes = len(df['esporte'].unique())\n",
    "print(\" 6 -Quantos esportes já fizeram parte? \\n\", esportes, \"esportes.\\n\")\n",
    "\n",
    "print(r\" COMANDO SQL: SELECT DISTINCT COUNT(distinct esporte) AS qtd_esportes FROM `basedosdados.mundo_kaggle_olimpiadas.microdados`\")"
   ]
  },
  {
   "cell_type": "markdown",
   "id": "79e323ec",
   "metadata": {},
   "source": [
    "###### 7 -Quantos esportes por ano já fizeram parte?\n"
   ]
  },
  {
   "cell_type": "code",
   "execution_count": 77,
   "id": "0abacec4",
   "metadata": {},
   "outputs": [
    {
     "name": "stdout",
     "output_type": "stream",
     "text": [
      "Comando SQL: SELECT esporte, COUNT(esporte) AS qtd_esporte FROM `basedosdados.mundo_kaggle_olimpiadas.microdados` GROUP BY esporte ORDER BY qtd_esporte DESC \n"
     ]
    },
    {
     "data": {
      "text/html": [
       "<div>\n",
       "<style scoped>\n",
       "    .dataframe tbody tr th:only-of-type {\n",
       "        vertical-align: middle;\n",
       "    }\n",
       "\n",
       "    .dataframe tbody tr th {\n",
       "        vertical-align: top;\n",
       "    }\n",
       "\n",
       "    .dataframe thead th {\n",
       "        text-align: right;\n",
       "    }\n",
       "</style>\n",
       "<table border=\"1\" class=\"dataframe\">\n",
       "  <thead>\n",
       "    <tr style=\"text-align: right;\">\n",
       "      <th></th>\n",
       "      <th>esporte</th>\n",
       "    </tr>\n",
       "  </thead>\n",
       "  <tbody>\n",
       "    <tr>\n",
       "      <th>Athletics</th>\n",
       "      <td>38624</td>\n",
       "    </tr>\n",
       "    <tr>\n",
       "      <th>Gymnastics</th>\n",
       "      <td>26707</td>\n",
       "    </tr>\n",
       "    <tr>\n",
       "      <th>Swimming</th>\n",
       "      <td>23195</td>\n",
       "    </tr>\n",
       "    <tr>\n",
       "      <th>Shooting</th>\n",
       "      <td>11448</td>\n",
       "    </tr>\n",
       "    <tr>\n",
       "      <th>Cycling</th>\n",
       "      <td>10827</td>\n",
       "    </tr>\n",
       "    <tr>\n",
       "      <th>...</th>\n",
       "      <td>...</td>\n",
       "    </tr>\n",
       "    <tr>\n",
       "      <th>Racquets</th>\n",
       "      <td>12</td>\n",
       "    </tr>\n",
       "    <tr>\n",
       "      <th>Jeu De Paume</th>\n",
       "      <td>11</td>\n",
       "    </tr>\n",
       "    <tr>\n",
       "      <th>Roque</th>\n",
       "      <td>4</td>\n",
       "    </tr>\n",
       "    <tr>\n",
       "      <th>Basque Pelota</th>\n",
       "      <td>2</td>\n",
       "    </tr>\n",
       "    <tr>\n",
       "      <th>Aeronautics</th>\n",
       "      <td>1</td>\n",
       "    </tr>\n",
       "  </tbody>\n",
       "</table>\n",
       "<p>66 rows × 1 columns</p>\n",
       "</div>"
      ],
      "text/plain": [
       "               esporte\n",
       "Athletics        38624\n",
       "Gymnastics       26707\n",
       "Swimming         23195\n",
       "Shooting         11448\n",
       "Cycling          10827\n",
       "...                ...\n",
       "Racquets            12\n",
       "Jeu De Paume        11\n",
       "Roque                4\n",
       "Basque Pelota        2\n",
       "Aeronautics          1\n",
       "\n",
       "[66 rows x 1 columns]"
      ]
     },
     "execution_count": 77,
     "metadata": {},
     "output_type": "execute_result"
    }
   ],
   "source": [
    "esportes = df['esporte'].value_counts()\n",
    "\n",
    "print(r\"Comando SQL: SELECT ano, COUNT(DISTINCT esporte) AS qtd_esporte FROM `basedosdados.mundo_kaggle_olimpiadas.microdados` GROUP BY ano ORDER BY ano DESC\")\n",
    "newdf"
   ]
  },
  {
   "cell_type": "code",
   "execution_count": null,
   "id": "9919076d",
   "metadata": {},
   "outputs": [],
   "source": [
    "8 -Quantos Países já sediaram os jogos?\n"
   ]
  },
  {
   "cell_type": "code",
   "execution_count": null,
   "id": "2b2865ca",
   "metadata": {},
   "outputs": [],
   "source": [
    "9 -Qual a média de peso dos atletas masculinos e femininos?\n"
   ]
  },
  {
   "cell_type": "code",
   "execution_count": null,
   "id": "d6e767e9",
   "metadata": {},
   "outputs": [],
   "source": [
    "10-Qual a média de Idade dos atletas masculinos e femininos?"
   ]
  },
  {
   "cell_type": "code",
   "execution_count": null,
   "id": "ace416e0",
   "metadata": {},
   "outputs": [],
   "source": []
  }
 ],
 "metadata": {
  "kernelspec": {
   "display_name": "Python 3 (ipykernel)",
   "language": "python",
   "name": "python3"
  },
  "language_info": {
   "codemirror_mode": {
    "name": "ipython",
    "version": 3
   },
   "file_extension": ".py",
   "mimetype": "text/x-python",
   "name": "python",
   "nbconvert_exporter": "python",
   "pygments_lexer": "ipython3",
   "version": "3.9.7"
  }
 },
 "nbformat": 4,
 "nbformat_minor": 5
}
