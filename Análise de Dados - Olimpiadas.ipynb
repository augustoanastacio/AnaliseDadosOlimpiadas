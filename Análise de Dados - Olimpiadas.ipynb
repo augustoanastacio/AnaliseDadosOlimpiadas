{
 "cells": [
  {
   "cell_type": "markdown",
   "id": "e288f106",
   "metadata": {},
   "source": [
    "# Análise de Dados: Olimpíadas"
   ]
  },
  {
   "cell_type": "markdown",
   "id": "9cff4664",
   "metadata": {},
   "source": [
    "## Um estudo sobre o Jogos Olímpicos em suas 35 edições"
   ]
  },
  {
   "cell_type": "markdown",
   "id": "2d417662",
   "metadata": {},
   "source": [
    "### Para este estudo serão usados os microdados disponíveis em\n",
    "https://basedosdados.org/dataset/mundo-kaggle-olimpiadas"
   ]
  },
  {
   "cell_type": "markdown",
   "id": "ad351ed3",
   "metadata": {},
   "source": [
    "Neste repositório farei a mesma análise usando comandos SQL,quando aplicáveis e python, além de Power BI para visualização.\n",
    "\n",
    "Os comandos SQL serão espelhados neste próprio caderno abaixo do código python ficando a cargo do leitor reproduzi-los no Google cloud.\n",
    "\n",
    "Os dados dessa base estão em uma única tabela com 269718 linhas, apresentados desta forma:"
   ]
  },
  {
   "cell_type": "code",
   "execution_count": 5,
   "id": "4fda075f",
   "metadata": {
    "scrolled": true
   },
   "outputs": [
    {
     "data": {
      "text/html": [
       "<div>\n",
       "<style scoped>\n",
       "    .dataframe tbody tr th:only-of-type {\n",
       "        vertical-align: middle;\n",
       "    }\n",
       "\n",
       "    .dataframe tbody tr th {\n",
       "        vertical-align: top;\n",
       "    }\n",
       "\n",
       "    .dataframe thead th {\n",
       "        text-align: right;\n",
       "    }\n",
       "</style>\n",
       "<table border=\"1\" class=\"dataframe\">\n",
       "  <thead>\n",
       "    <tr style=\"text-align: right;\">\n",
       "      <th></th>\n",
       "      <th>ano</th>\n",
       "      <th>edicao</th>\n",
       "      <th>cidade_sede</th>\n",
       "      <th>pais</th>\n",
       "      <th>delegacao</th>\n",
       "      <th>equipe</th>\n",
       "      <th>id_atleta</th>\n",
       "      <th>nome_atleta</th>\n",
       "      <th>sexo</th>\n",
       "      <th>idade</th>\n",
       "      <th>altura</th>\n",
       "      <th>peso</th>\n",
       "      <th>esporte</th>\n",
       "      <th>evento</th>\n",
       "      <th>medalha</th>\n",
       "    </tr>\n",
       "  </thead>\n",
       "  <tbody>\n",
       "    <tr>\n",
       "      <th>0</th>\n",
       "      <td>1896</td>\n",
       "      <td>Summer</td>\n",
       "      <td>Athina</td>\n",
       "      <td>Australia</td>\n",
       "      <td>AUS</td>\n",
       "      <td>Australia</td>\n",
       "      <td>35698</td>\n",
       "      <td>Edwin Harold \"Teddy\" Flack</td>\n",
       "      <td>M</td>\n",
       "      <td>22.0</td>\n",
       "      <td>NaN</td>\n",
       "      <td>NaN</td>\n",
       "      <td>Athletics</td>\n",
       "      <td>Athletics Men's 1,500 metres</td>\n",
       "      <td>Gold</td>\n",
       "    </tr>\n",
       "    <tr>\n",
       "      <th>1</th>\n",
       "      <td>1896</td>\n",
       "      <td>Summer</td>\n",
       "      <td>Athina</td>\n",
       "      <td>Australia</td>\n",
       "      <td>AUS</td>\n",
       "      <td>Australia</td>\n",
       "      <td>35698</td>\n",
       "      <td>Edwin Harold \"Teddy\" Flack</td>\n",
       "      <td>M</td>\n",
       "      <td>22.0</td>\n",
       "      <td>NaN</td>\n",
       "      <td>NaN</td>\n",
       "      <td>Athletics</td>\n",
       "      <td>Athletics Men's 800 metres</td>\n",
       "      <td>Gold</td>\n",
       "    </tr>\n",
       "    <tr>\n",
       "      <th>2</th>\n",
       "      <td>1896</td>\n",
       "      <td>Summer</td>\n",
       "      <td>Athina</td>\n",
       "      <td>Australia</td>\n",
       "      <td>AUS</td>\n",
       "      <td>Australia</td>\n",
       "      <td>35698</td>\n",
       "      <td>Edwin Harold \"Teddy\" Flack</td>\n",
       "      <td>M</td>\n",
       "      <td>22.0</td>\n",
       "      <td>NaN</td>\n",
       "      <td>NaN</td>\n",
       "      <td>Athletics</td>\n",
       "      <td>Athletics Men's Marathon</td>\n",
       "      <td>NaN</td>\n",
       "    </tr>\n",
       "    <tr>\n",
       "      <th>3</th>\n",
       "      <td>1896</td>\n",
       "      <td>Summer</td>\n",
       "      <td>Athina</td>\n",
       "      <td>Australia</td>\n",
       "      <td>AUS</td>\n",
       "      <td>Australia/Great Britain</td>\n",
       "      <td>35698</td>\n",
       "      <td>Edwin Harold \"Teddy\" Flack</td>\n",
       "      <td>M</td>\n",
       "      <td>22.0</td>\n",
       "      <td>NaN</td>\n",
       "      <td>NaN</td>\n",
       "      <td>Tennis</td>\n",
       "      <td>Tennis Men's Doubles</td>\n",
       "      <td>Bronze</td>\n",
       "    </tr>\n",
       "    <tr>\n",
       "      <th>4</th>\n",
       "      <td>1896</td>\n",
       "      <td>Summer</td>\n",
       "      <td>Athina</td>\n",
       "      <td>Australia</td>\n",
       "      <td>AUS</td>\n",
       "      <td>Australia</td>\n",
       "      <td>35698</td>\n",
       "      <td>Edwin Harold \"Teddy\" Flack</td>\n",
       "      <td>M</td>\n",
       "      <td>22.0</td>\n",
       "      <td>NaN</td>\n",
       "      <td>NaN</td>\n",
       "      <td>Tennis</td>\n",
       "      <td>Tennis Men's Singles</td>\n",
       "      <td>NaN</td>\n",
       "    </tr>\n",
       "  </tbody>\n",
       "</table>\n",
       "</div>"
      ],
      "text/plain": [
       "    ano  edicao cidade_sede       pais delegacao                   equipe  \\\n",
       "0  1896  Summer      Athina  Australia       AUS                Australia   \n",
       "1  1896  Summer      Athina  Australia       AUS                Australia   \n",
       "2  1896  Summer      Athina  Australia       AUS                Australia   \n",
       "3  1896  Summer      Athina  Australia       AUS  Australia/Great Britain   \n",
       "4  1896  Summer      Athina  Australia       AUS                Australia   \n",
       "\n",
       "   id_atleta                 nome_atleta sexo  idade  altura  peso    esporte  \\\n",
       "0      35698  Edwin Harold \"Teddy\" Flack    M   22.0     NaN   NaN  Athletics   \n",
       "1      35698  Edwin Harold \"Teddy\" Flack    M   22.0     NaN   NaN  Athletics   \n",
       "2      35698  Edwin Harold \"Teddy\" Flack    M   22.0     NaN   NaN  Athletics   \n",
       "3      35698  Edwin Harold \"Teddy\" Flack    M   22.0     NaN   NaN     Tennis   \n",
       "4      35698  Edwin Harold \"Teddy\" Flack    M   22.0     NaN   NaN     Tennis   \n",
       "\n",
       "                         evento medalha  \n",
       "0  Athletics Men's 1,500 metres    Gold  \n",
       "1    Athletics Men's 800 metres    Gold  \n",
       "2      Athletics Men's Marathon     NaN  \n",
       "3          Tennis Men's Doubles  Bronze  \n",
       "4          Tennis Men's Singles     NaN  "
      ]
     },
     "execution_count": 5,
     "metadata": {},
     "output_type": "execute_result"
    }
   ],
   "source": [
    "import pandas as pd                    #importando a biblioteca com o nome de pd\n",
    "df = pd.read_csv(\"olimpiadas.csv\")     #importando o arquivo csv como um Dataframe, formato da própria bilbioteca\n",
    "                                       # usei csv porque é como os dados estão mas poderia ter usado separado por tabulação, o que precisaria de um delimitador\n",
    "                                       # seria df = pd.read_csv(\"pokemon_data.txt\", delimiter = \"\\t\") sendo \"\\t\" o delimitador\n",
    "df.head()  "
   ]
  },
  {
   "cell_type": "markdown",
   "id": "0305a3ed",
   "metadata": {},
   "source": [
    "## Para este estudo faremos as seguintes perguntas à nossa base de dados:"
   ]
  },
  {
   "cell_type": "markdown",
   "id": "39e7643b",
   "metadata": {},
   "source": [
    "### 10 Perguntas Básicas (Resultam e apenas um número ou dois):"
   ]
  },
  {
   "cell_type": "markdown",
   "id": "3cb3d072",
   "metadata": {},
   "source": [
    "1 -Quantas edições aconteceram?\n",
    "\n",
    "2 -Quantos atletas participaram em todas as edições?\n",
    "\n",
    "3 -Qual o número de homens e mulheres de todas as edições?\n",
    "\n",
    "4 -Quantas medalhas foram adquiridas?\n",
    "\n",
    "5 -Quantas medalhas de cada tipo foram distribuídas?\n",
    "\n",
    "6 -Quantos esportes já fizeram parte?\n",
    "\n",
    "7 -Quantos esportes por ano já fizeram parte?\n",
    "\n",
    "8 -Quantas cidades já sediaram os jogos?\n",
    "\n",
    "9 -Qual a média de peso dos atletas masculinos e femininos?\n",
    "\n",
    "10-Qual a média de Idade dos atletas masculinos e femininos?"
   ]
  },
  {
   "cell_type": "markdown",
   "id": "79d4c9c7",
   "metadata": {},
   "source": [
    "###### 1 -Quantas edições aconteceram?"
   ]
  },
  {
   "cell_type": "code",
   "execution_count": 23,
   "id": "48f902c2",
   "metadata": {},
   "outputs": [
    {
     "name": "stdout",
     "output_type": "stream",
     "text": [
      " 1 -Quantas edições aconteceram? \n",
      " 35 edições.\n",
      "\n",
      " COMANDO SQL: SELECT DISTINCT COUNT(distinct ano) AS Edicoes FROM `basedosdados.mundo_kaggle_olimpiadas.microdados`\n"
     ]
    }
   ],
   "source": [
    "edicoes = len(df['ano'].unique())\n",
    "print(\" 1 -Quantas edições aconteceram? \\n\", edicoes, \"edições.\\n\")\n",
    "\n",
    "print(r\" COMANDO SQL: SELECT DISTINCT COUNT(distinct ano) AS qtd_edicoes FROM `basedosdados.mundo_kaggle_olimpiadas.microdados`\")"
   ]
  },
  {
   "cell_type": "markdown",
   "id": "77e03397",
   "metadata": {},
   "source": [
    "###### 2 -Quantos atletas participaram em todas as edições?"
   ]
  },
  {
   "cell_type": "code",
   "execution_count": 24,
   "id": "81c4e8b0",
   "metadata": {},
   "outputs": [
    {
     "name": "stdout",
     "output_type": "stream",
     "text": [
      " 2 -Quantos atletas participaram em todas as edições? \n",
      " 135571 atletas.\n",
      "\n",
      " COMANDO SQL: SELECT DISTINCT COUNT(distinct id_atleta) AS qtd_atletas FROM `basedosdados.mundo_kaggle_olimpiadas.microdados`\n"
     ]
    }
   ],
   "source": [
    "atletas = len(df['id_atleta'].unique())\n",
    "print(\" 2 -Quantos atletas participaram em todas as edições? \\n\", atletas, \"atletas.\\n\")\n",
    "\n",
    "print(r\" COMANDO SQL: SELECT DISTINCT COUNT(distinct id_atleta) AS qtd_atletas FROM `basedosdados.mundo_kaggle_olimpiadas.microdados`\")"
   ]
  },
  {
   "cell_type": "markdown",
   "id": "47643c37",
   "metadata": {},
   "source": [
    "###### 3 -Qual o número de homens e mulheres de todas as edições?"
   ]
  },
  {
   "cell_type": "code",
   "execution_count": 53,
   "id": "1661a1a0",
   "metadata": {},
   "outputs": [
    {
     "name": "stdout",
     "output_type": "stream",
     "text": [
      " 2 -Quantos atletas participaram em todas as edições? \n",
      " 195340 Homens;\n",
      " 74378 Mulheres.\n",
      "Comando SQL: SELECT sexo, COUNT(sexo) AS qtd_atletas FROM `basedosdados.mundo_kaggle_olimpiadas.microdados` GROUP BY sexo\n"
     ]
    }
   ],
   "source": [
    "atletas = df['sexo'].value_counts()\n",
    "homens = atletas[0]\n",
    "mulheres = atletas[1]\n",
    "print(\" 2 -Quantos atletas participaram em todas as edições? \\n\", homens, \"Homens;\\n\", mulheres,\"Mulheres.\")\n",
    "\n",
    "print(r\"Comando SQL: SELECT sexo, COUNT(sexo) AS qtd_atletas FROM `basedosdados.mundo_kaggle_olimpiadas.microdados` GROUP BY sexo\")"
   ]
  },
  {
   "cell_type": "markdown",
   "id": "9151bfc5",
   "metadata": {},
   "source": [
    "###### 4 -Quantas medalhas foram adquiridas?"
   ]
  },
  {
   "cell_type": "code",
   "execution_count": 55,
   "id": "c5290bcb",
   "metadata": {},
   "outputs": [
    {
     "name": "stdout",
     "output_type": "stream",
     "text": [
      " 4 -Quantas medalhas foram adquiridas? \n",
      " 39772 medalhas.\n",
      "\n",
      "Comando SQL: SELECT COUNT(medalha) AS qtd_medalhas FROM `basedosdados.mundo_kaggle_olimpiadas.microdados`\n"
     ]
    }
   ],
   "source": [
    "medalhas = df['medalha'].value_counts()\n",
    "# é possível simplificar o código para esta questão, \n",
    "# mas como a questão seguinte pedirá os valores distintos, optei por manter desta forma mais didática\n",
    "# total = medalhas[0]+medalhas[1]+medalhas[2] desta forma reduzindo o código em uma linha e duas variáveis.\n",
    "ouro = medalhas[0]\n",
    "bronze = medalhas[1]\n",
    "prata = medalhas[2]\n",
    "total = ouro+bronze+prata\n",
    "print(\" 4 -Quantas medalhas foram adquiridas? \\n\", total, \"medalhas.\\n\")\n",
    "print(r\"Comando SQL: SELECT COUNT(medalha) AS qtd_medalhas FROM `basedosdados.mundo_kaggle_olimpiadas.microdados`\")"
   ]
  },
  {
   "cell_type": "markdown",
   "id": "076de832",
   "metadata": {},
   "source": [
    "###### 5 -Quantas medalhas de cada tipo foram distribuídas?"
   ]
  },
  {
   "cell_type": "code",
   "execution_count": 57,
   "id": "f36f92a0",
   "metadata": {},
   "outputs": [
    {
     "name": "stdout",
     "output_type": "stream",
     "text": [
      "5 -Quantas medalhas de cada tipo foram distribuídas? \n",
      " 13369  ouro;\n",
      " 13108  prata;\n",
      " 13295 bronze.\n",
      "\n",
      "Comando SQL: SELECT MEDALHA, COUNT(medalha) AS qtd_medalhas FROM `basedosdados.mundo_kaggle_olimpiadas.microdados` GROUP BY medalha ORDER BY qtd_medalhas DESC\n"
     ]
    }
   ],
   "source": [
    "print(\"5 -Quantas medalhas de cada tipo foram distribuídas? \\n\", ouro, \" ouro;\\n\", prata, \" prata;\\n\", bronze, \"bronze.\\n\")\n",
    "\n",
    "print(r\"Comando SQL: SELECT MEDALHA, COUNT(medalha) AS qtd_medalhas FROM `basedosdados.mundo_kaggle_olimpiadas.microdados` GROUP BY medalha ORDER BY qtd_medalhas DESC\")"
   ]
  },
  {
   "cell_type": "markdown",
   "id": "6902db75",
   "metadata": {},
   "source": [
    "###### 6 -Quantos esportes já fizeram parte?\n"
   ]
  },
  {
   "cell_type": "code",
   "execution_count": 59,
   "id": "4e5df275",
   "metadata": {},
   "outputs": [
    {
     "name": "stdout",
     "output_type": "stream",
     "text": [
      " 6 -Quantos esportes já fizeram parte? \n",
      " 66 esportes.\n",
      "\n",
      " COMANDO SQL: SELECT DISTINCT COUNT(distinct esporte) AS qtd_esportes FROM `basedosdados.mundo_kaggle_olimpiadas.microdados`\n"
     ]
    }
   ],
   "source": [
    "esportes = len(df['esporte'].unique())\n",
    "print(\" 6 -Quantos esportes já fizeram parte? \\n\", esportes, \"esportes.\\n\")\n",
    "\n",
    "print(r\" COMANDO SQL: SELECT DISTINCT COUNT(distinct esporte) AS qtd_esportes FROM `basedosdados.mundo_kaggle_olimpiadas.microdados`\")"
   ]
  },
  {
   "cell_type": "markdown",
   "id": "615496f7",
   "metadata": {},
   "source": [
    "###### 7 -Quantos esportes por ano já fizeram parte?\n"
   ]
  },
  {
   "cell_type": "code",
   "execution_count": 101,
   "id": "6ad69d13",
   "metadata": {},
   "outputs": [
    {
     "name": "stdout",
     "output_type": "stream",
     "text": [
      "Comando SQL: SELECT ano, COUNT(DISTINCT esporte) AS qtd_esporte FROM `basedosdados.mundo_kaggle_olimpiadas.microdados` GROUP BY ano ORDER BY ano DESC\n"
     ]
    },
    {
     "data": {
      "text/plain": [
       "ano\n",
       "1896     9\n",
       "1900    20\n",
       "1904    18\n",
       "1906    13\n",
       "1908    24\n",
       "1912    17\n",
       "1920    25\n",
       "1924    30\n",
       "1928    25\n",
       "1932    25\n",
       "1936    32\n",
       "1948    29\n",
       "1952    27\n",
       "1956    27\n",
       "1960    27\n",
       "1964    31\n",
       "1968    30\n",
       "1972    33\n",
       "1976    33\n",
       "1980    33\n",
       "1984    35\n",
       "1988    37\n",
       "1992    41\n",
       "1994    12\n",
       "1996    31\n",
       "1998    14\n",
       "2000    34\n",
       "2002    15\n",
       "2004    34\n",
       "2006    15\n",
       "2008    34\n",
       "2010    15\n",
       "2012    32\n",
       "2014    15\n",
       "2016    34\n",
       "Name: esporte, dtype: int64"
      ]
     },
     "execution_count": 101,
     "metadata": {},
     "output_type": "execute_result"
    }
   ],
   "source": [
    "esportes = df.groupby('ano')['esporte'].nunique()\n",
    "print(r\"Comando SQL: SELECT ano, COUNT(DISTINCT esporte) AS qtd_esporte FROM `basedosdados.mundo_kaggle_olimpiadas.microdados` GROUP BY ano ORDER BY ano DESC\")\n",
    "esportes"
   ]
  },
  {
   "cell_type": "markdown",
   "id": "599dfb8c",
   "metadata": {},
   "source": [
    "###### 8 -Quantas cidades já sediaram os jogos?\n"
   ]
  },
  {
   "cell_type": "code",
   "execution_count": 106,
   "id": "0b9d9172",
   "metadata": {},
   "outputs": [
    {
     "name": "stdout",
     "output_type": "stream",
     "text": [
      " 8 -Quantas cidades já sediaram os jogos? \n",
      " 42 cidades.\n",
      "\n",
      " COMANDO SQL: SELECT DISTINCT COUNT(distinct cidade-sede) AS cidades FROM `basedosdados.mundo_kaggle_olimpiadas.microdados`\n"
     ]
    }
   ],
   "source": [
    "cidades = len(df['cidade_sede'].unique())\n",
    "\n",
    "print(\" 8 -Quantas cidades já sediaram os jogos? \\n\", cidades, \"cidades.\\n\")\n",
    "\n",
    "\n",
    "print(r\" COMANDO SQL: SELECT DISTINCT COUNT(distinct cidade-sede) AS cidades FROM `basedosdados.mundo_kaggle_olimpiadas.microdados`\")\n"
   ]
  },
  {
   "cell_type": "markdown",
   "id": "4cd8c989",
   "metadata": {},
   "source": [
    "###### 9 -Qual a média de peso dos atletas masculinos e femininos?\n"
   ]
  },
  {
   "cell_type": "code",
   "execution_count": 114,
   "id": "104488f4",
   "metadata": {},
   "outputs": [
    {
     "name": "stdout",
     "output_type": "stream",
     "text": [
      " COMANDO SQL: SELECT sexo, avg(peso) AS pesomed FROM `basedosdados.mundo_kaggle_olimpiadas.microdados` GROUP BY sexo \n"
     ]
    },
    {
     "data": {
      "text/plain": [
       "sexo\n",
       "F    60.019859\n",
       "M    75.741008\n",
       "Name: peso, dtype: float64"
      ]
     },
     "execution_count": 114,
     "metadata": {},
     "output_type": "execute_result"
    }
   ],
   "source": [
    "peso = df.groupby('sexo')['peso'].mean()\n",
    "\n",
    "print(r\" COMANDO SQL: SELECT sexo, avg(peso) AS pesomed FROM `basedosdados.mundo_kaggle_olimpiadas.microdados` GROUP BY sexo \")\n",
    "\n",
    "peso"
   ]
  },
  {
   "cell_type": "markdown",
   "id": "4892de2c",
   "metadata": {},
   "source": [
    "###### 10-Qual a média de Idade dos atletas masculinos e femininos?"
   ]
  },
  {
   "cell_type": "code",
   "execution_count": 116,
   "id": "2560a878",
   "metadata": {
    "scrolled": true
   },
   "outputs": [
    {
     "name": "stdout",
     "output_type": "stream",
     "text": [
      " COMANDO SQL: SELECT sexo, avg(idade) AS idade_med FROM `basedosdados.mundo_kaggle_olimpiadas.microdados` GROUP BY sexo \n"
     ]
    },
    {
     "data": {
      "text/plain": [
       "sexo\n",
       "F    23.697713\n",
       "M    26.151566\n",
       "Name: idade, dtype: float64"
      ]
     },
     "execution_count": 116,
     "metadata": {},
     "output_type": "execute_result"
    }
   ],
   "source": [
    "idade = df.groupby('sexo')['idade'].mean()\n",
    "\n",
    "print(r\" COMANDO SQL: SELECT sexo, avg(idade) AS idade_med FROM `basedosdados.mundo_kaggle_olimpiadas.microdados` GROUP BY sexo \")\n",
    "\n",
    "idade"
   ]
  },
  {
   "cell_type": "markdown",
   "id": "265908b2",
   "metadata": {},
   "source": [
    "##### Aqui termina a primeira parte desta análise, mostrando algumas informações básicas em duas linguagens distintas. Em breve informações mais complexas"
   ]
  }
 ],
 "metadata": {
  "kernelspec": {
   "display_name": "Python 3 (ipykernel)",
   "language": "python",
   "name": "python3"
  },
  "language_info": {
   "codemirror_mode": {
    "name": "ipython",
    "version": 3
   },
   "file_extension": ".py",
   "mimetype": "text/x-python",
   "name": "python",
   "nbconvert_exporter": "python",
   "pygments_lexer": "ipython3",
   "version": "3.9.7"
  }
 },
 "nbformat": 4,
 "nbformat_minor": 5
}
