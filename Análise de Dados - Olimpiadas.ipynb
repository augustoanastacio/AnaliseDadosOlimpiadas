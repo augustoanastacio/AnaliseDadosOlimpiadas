{
 "cells": [
  {
   "cell_type": "markdown",
   "id": "001bdb96",
   "metadata": {},
   "source": [
    "# Análise de Dados: Olimpíadas"
   ]
  },
  {
   "cell_type": "markdown",
   "id": "49c78b59",
   "metadata": {},
   "source": [
    "## Um estudo sobre o Jogos Olímpicos em suas 35 edições"
   ]
  },
  {
   "cell_type": "markdown",
   "id": "ab019e32",
   "metadata": {},
   "source": [
    "### Para este estudo serão usados os microdados disponíveis em\n",
    "https://basedosdados.org/dataset/mundo-kaggle-olimpiadas"
   ]
  },
  {
   "cell_type": "markdown",
   "id": "e6f7b187",
   "metadata": {},
   "source": [
    "Neste repositório farei a mesma análise usando comandos SQL,quando aplicável; python e Excel, já que o número de linhas é limitado.\n",
    "\n",
    "Os comandos SQL serão espelhados neste próprio caderno abaixo do código python ficando a cargo do leitor reproduzi-los no Google cloud.\n",
    "\n",
    "Os dados dessa base estão em uma única tabela com 269718 linhas, apresentados desta forma:"
   ]
  },
  {
   "cell_type": "code",
   "execution_count": 5,
   "id": "921a158c",
   "metadata": {
    "scrolled": true
   },
   "outputs": [
    {
     "data": {
      "text/html": [
       "<div>\n",
       "<style scoped>\n",
       "    .dataframe tbody tr th:only-of-type {\n",
       "        vertical-align: middle;\n",
       "    }\n",
       "\n",
       "    .dataframe tbody tr th {\n",
       "        vertical-align: top;\n",
       "    }\n",
       "\n",
       "    .dataframe thead th {\n",
       "        text-align: right;\n",
       "    }\n",
       "</style>\n",
       "<table border=\"1\" class=\"dataframe\">\n",
       "  <thead>\n",
       "    <tr style=\"text-align: right;\">\n",
       "      <th></th>\n",
       "      <th>ano</th>\n",
       "      <th>edicao</th>\n",
       "      <th>cidade_sede</th>\n",
       "      <th>pais</th>\n",
       "      <th>delegacao</th>\n",
       "      <th>equipe</th>\n",
       "      <th>id_atleta</th>\n",
       "      <th>nome_atleta</th>\n",
       "      <th>sexo</th>\n",
       "      <th>idade</th>\n",
       "      <th>altura</th>\n",
       "      <th>peso</th>\n",
       "      <th>esporte</th>\n",
       "      <th>evento</th>\n",
       "      <th>medalha</th>\n",
       "    </tr>\n",
       "  </thead>\n",
       "  <tbody>\n",
       "    <tr>\n",
       "      <th>0</th>\n",
       "      <td>1896</td>\n",
       "      <td>Summer</td>\n",
       "      <td>Athina</td>\n",
       "      <td>Australia</td>\n",
       "      <td>AUS</td>\n",
       "      <td>Australia</td>\n",
       "      <td>35698</td>\n",
       "      <td>Edwin Harold \"Teddy\" Flack</td>\n",
       "      <td>M</td>\n",
       "      <td>22.0</td>\n",
       "      <td>NaN</td>\n",
       "      <td>NaN</td>\n",
       "      <td>Athletics</td>\n",
       "      <td>Athletics Men's 1,500 metres</td>\n",
       "      <td>Gold</td>\n",
       "    </tr>\n",
       "    <tr>\n",
       "      <th>1</th>\n",
       "      <td>1896</td>\n",
       "      <td>Summer</td>\n",
       "      <td>Athina</td>\n",
       "      <td>Australia</td>\n",
       "      <td>AUS</td>\n",
       "      <td>Australia</td>\n",
       "      <td>35698</td>\n",
       "      <td>Edwin Harold \"Teddy\" Flack</td>\n",
       "      <td>M</td>\n",
       "      <td>22.0</td>\n",
       "      <td>NaN</td>\n",
       "      <td>NaN</td>\n",
       "      <td>Athletics</td>\n",
       "      <td>Athletics Men's 800 metres</td>\n",
       "      <td>Gold</td>\n",
       "    </tr>\n",
       "    <tr>\n",
       "      <th>2</th>\n",
       "      <td>1896</td>\n",
       "      <td>Summer</td>\n",
       "      <td>Athina</td>\n",
       "      <td>Australia</td>\n",
       "      <td>AUS</td>\n",
       "      <td>Australia</td>\n",
       "      <td>35698</td>\n",
       "      <td>Edwin Harold \"Teddy\" Flack</td>\n",
       "      <td>M</td>\n",
       "      <td>22.0</td>\n",
       "      <td>NaN</td>\n",
       "      <td>NaN</td>\n",
       "      <td>Athletics</td>\n",
       "      <td>Athletics Men's Marathon</td>\n",
       "      <td>NaN</td>\n",
       "    </tr>\n",
       "    <tr>\n",
       "      <th>3</th>\n",
       "      <td>1896</td>\n",
       "      <td>Summer</td>\n",
       "      <td>Athina</td>\n",
       "      <td>Australia</td>\n",
       "      <td>AUS</td>\n",
       "      <td>Australia/Great Britain</td>\n",
       "      <td>35698</td>\n",
       "      <td>Edwin Harold \"Teddy\" Flack</td>\n",
       "      <td>M</td>\n",
       "      <td>22.0</td>\n",
       "      <td>NaN</td>\n",
       "      <td>NaN</td>\n",
       "      <td>Tennis</td>\n",
       "      <td>Tennis Men's Doubles</td>\n",
       "      <td>Bronze</td>\n",
       "    </tr>\n",
       "    <tr>\n",
       "      <th>4</th>\n",
       "      <td>1896</td>\n",
       "      <td>Summer</td>\n",
       "      <td>Athina</td>\n",
       "      <td>Australia</td>\n",
       "      <td>AUS</td>\n",
       "      <td>Australia</td>\n",
       "      <td>35698</td>\n",
       "      <td>Edwin Harold \"Teddy\" Flack</td>\n",
       "      <td>M</td>\n",
       "      <td>22.0</td>\n",
       "      <td>NaN</td>\n",
       "      <td>NaN</td>\n",
       "      <td>Tennis</td>\n",
       "      <td>Tennis Men's Singles</td>\n",
       "      <td>NaN</td>\n",
       "    </tr>\n",
       "  </tbody>\n",
       "</table>\n",
       "</div>"
      ],
      "text/plain": [
       "    ano  edicao cidade_sede       pais delegacao                   equipe  \\\n",
       "0  1896  Summer      Athina  Australia       AUS                Australia   \n",
       "1  1896  Summer      Athina  Australia       AUS                Australia   \n",
       "2  1896  Summer      Athina  Australia       AUS                Australia   \n",
       "3  1896  Summer      Athina  Australia       AUS  Australia/Great Britain   \n",
       "4  1896  Summer      Athina  Australia       AUS                Australia   \n",
       "\n",
       "   id_atleta                 nome_atleta sexo  idade  altura  peso    esporte  \\\n",
       "0      35698  Edwin Harold \"Teddy\" Flack    M   22.0     NaN   NaN  Athletics   \n",
       "1      35698  Edwin Harold \"Teddy\" Flack    M   22.0     NaN   NaN  Athletics   \n",
       "2      35698  Edwin Harold \"Teddy\" Flack    M   22.0     NaN   NaN  Athletics   \n",
       "3      35698  Edwin Harold \"Teddy\" Flack    M   22.0     NaN   NaN     Tennis   \n",
       "4      35698  Edwin Harold \"Teddy\" Flack    M   22.0     NaN   NaN     Tennis   \n",
       "\n",
       "                         evento medalha  \n",
       "0  Athletics Men's 1,500 metres    Gold  \n",
       "1    Athletics Men's 800 metres    Gold  \n",
       "2      Athletics Men's Marathon     NaN  \n",
       "3          Tennis Men's Doubles  Bronze  \n",
       "4          Tennis Men's Singles     NaN  "
      ]
     },
     "execution_count": 5,
     "metadata": {},
     "output_type": "execute_result"
    }
   ],
   "source": [
    "import pandas as pd                    #importando a biblioteca com o nome de pd\n",
    "df = pd.read_csv(\"olimpiadas.csv\")     #importando o arquivo csv como um Dataframe, formato da própria bilbioteca\n",
    "                                       # usei csv porque é como os dados estão mas poderia ter usado separado por tabulação, o que precisaria de um delimitador\n",
    "                                       # seria df = pd.read_csv(\"pokemon_data.txt\", delimiter = \"\\t\") sendo \"\\t\" o delimitador\n",
    "df.head()  "
   ]
  },
  {
   "cell_type": "markdown",
   "id": "b44a5e22",
   "metadata": {},
   "source": [
    "## Para este estudo faremos as seguintes perguntas à nossa base de dados:"
   ]
  },
  {
   "cell_type": "markdown",
   "id": "0271e205",
   "metadata": {},
   "source": [
    "### 10 Perguntas Básicas (Resultam e apenas um número ou dois):"
   ]
  },
  {
   "cell_type": "markdown",
   "id": "b1239027",
   "metadata": {},
   "source": [
    "1 -Quantas edições aconteceram?\n",
    "\n",
    "2 -Quantos atletas participaram em todas as edições?\n",
    "\n",
    "3 -Qual o número de homens e mulheres de todas as edições?\n",
    "\n",
    "4 -Quantas medalhas foram adquiridas?\n",
    "\n",
    "5 -Quantos esportes já fizeram parte?\n",
    "\n",
    "7 -Quantas medalhas de cada tipo foram distribuídas?\n",
    "\n",
    "8 -Quantos Países já sediaram os jogos?\n",
    "\n",
    "9 -Qual a média de peso dos atletas masculinos e femininos?\n",
    "\n",
    "10-Qual a média de Idade dos atletas masculinos e femininos?"
   ]
  },
  {
   "cell_type": "markdown",
   "id": "451a1693",
   "metadata": {},
   "source": [
    "###### 1 -Quantas edições aconteceram?"
   ]
  },
  {
   "cell_type": "code",
   "execution_count": 23,
   "id": "dbb76add",
   "metadata": {},
   "outputs": [
    {
     "name": "stdout",
     "output_type": "stream",
     "text": [
      " 1 -Quantas edições aconteceram? \n",
      " 35 edições.\n",
      "\n",
      " COMANDO SQL: SELECT DISTINCT COUNT(distinct ano) AS Edicoes FROM `basedosdados.mundo_kaggle_olimpiadas.microdados`\n"
     ]
    }
   ],
   "source": [
    "edicoes = len(df['ano'].unique())\n",
    "print(\" 1 -Quantas edições aconteceram? \\n\", edicoes, \"edições.\\n\")\n",
    "\n",
    "print(r\" COMANDO SQL: SELECT DISTINCT COUNT(distinct ano) AS Edicoes FROM `basedosdados.mundo_kaggle_olimpiadas.microdados`\")"
   ]
  },
  {
   "cell_type": "markdown",
   "id": "c1ff5c5f",
   "metadata": {},
   "source": [
    "2 -Quantos atletas participaram em todas as edições?"
   ]
  }
 ],
 "metadata": {
  "kernelspec": {
   "display_name": "Python 3 (ipykernel)",
   "language": "python",
   "name": "python3"
  },
  "language_info": {
   "codemirror_mode": {
    "name": "ipython",
    "version": 3
   },
   "file_extension": ".py",
   "mimetype": "text/x-python",
   "name": "python",
   "nbconvert_exporter": "python",
   "pygments_lexer": "ipython3",
   "version": "3.9.7"
  }
 },
 "nbformat": 4,
 "nbformat_minor": 5
}
